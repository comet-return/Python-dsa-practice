{
 "cells": [
  {
   "cell_type": "code",
   "execution_count": 21,
   "metadata": {},
   "outputs": [
    {
     "name": "stdout",
     "output_type": "stream",
     "text": [
      "56--->79--->\n"
     ]
    },
    {
     "ename": "NameError",
     "evalue": "name 'iterable' is not defined",
     "output_type": "error",
     "traceback": [
      "\u001b[0;31m---------------------------------------------------------------------------\u001b[0m",
      "\u001b[0;31mNameError\u001b[0m                                 Traceback (most recent call last)",
      "\u001b[1;32m/home/whoami/Me&Me/2.LinkedList.ipynb Cell 1\u001b[0m line \u001b[0;36m7\n\u001b[1;32m     <a href='vscode-notebook-cell:/home/whoami/Me%26Me/2.LinkedList.ipynb#W0sZmlsZQ%3D%3D?line=68'>69</a>\u001b[0m pp \u001b[39m=\u001b[39m LinkedList()\n\u001b[1;32m     <a href='vscode-notebook-cell:/home/whoami/Me%26Me/2.LinkedList.ipynb#W0sZmlsZQ%3D%3D?line=69'>70</a>\u001b[0m pp\u001b[39m.\u001b[39minsert_values([\u001b[39m\"\u001b[39m\u001b[39mme\u001b[39m\u001b[39m\"\u001b[39m,\u001b[39m\"\u001b[39m\u001b[39mshe\u001b[39m\u001b[39m\"\u001b[39m,\u001b[39m\"\u001b[39m\u001b[39mlove\u001b[39m\u001b[39m\"\u001b[39m,\u001b[39m\"\u001b[39m\u001b[39mcoffee\u001b[39m\u001b[39m\"\u001b[39m,\u001b[39m\"\u001b[39m\u001b[39mdate\u001b[39m\u001b[39m\"\u001b[39m])\n\u001b[0;32m---> <a href='vscode-notebook-cell:/home/whoami/Me%26Me/2.LinkedList.ipynb#W0sZmlsZQ%3D%3D?line=70'>71</a>\u001b[0m pp\u001b[39m.\u001b[39;49mremove_at(\u001b[39m1\u001b[39;49m)\n\u001b[1;32m     <a href='vscode-notebook-cell:/home/whoami/Me%26Me/2.LinkedList.ipynb#W0sZmlsZQ%3D%3D?line=71'>72</a>\u001b[0m pp\u001b[39m.\u001b[39mprint()\n\u001b[1;32m     <a href='vscode-notebook-cell:/home/whoami/Me%26Me/2.LinkedList.ipynb#W0sZmlsZQ%3D%3D?line=72'>73</a>\u001b[0m \u001b[39mprint\u001b[39m(\u001b[39m\"\u001b[39m\u001b[39mlength:\u001b[39m\u001b[39m\"\u001b[39m,pp\u001b[39m.\u001b[39mget_length())\n",
      "\u001b[1;32m/home/whoami/Me&Me/2.LinkedList.ipynb Cell 1\u001b[0m line \u001b[0;36m5\n\u001b[1;32m     <a href='vscode-notebook-cell:/home/whoami/Me%26Me/2.LinkedList.ipynb#W0sZmlsZQ%3D%3D?line=56'>57</a>\u001b[0m \u001b[39mwhile\u001b[39;00m itr:\n\u001b[1;32m     <a href='vscode-notebook-cell:/home/whoami/Me%26Me/2.LinkedList.ipynb#W0sZmlsZQ%3D%3D?line=57'>58</a>\u001b[0m     \u001b[39mif\u001b[39;00m count \u001b[39m==\u001b[39m index\u001b[39m-\u001b[39m\u001b[39m1\u001b[39m:\n\u001b[0;32m---> <a href='vscode-notebook-cell:/home/whoami/Me%26Me/2.LinkedList.ipynb#W0sZmlsZQ%3D%3D?line=58'>59</a>\u001b[0m         itr\u001b[39m.\u001b[39mnext \u001b[39m=\u001b[39m itr\u001b[39m.\u001b[39mnext\u001b[39m.\u001b[39mnext(iterable, default)\n\u001b[1;32m     <a href='vscode-notebook-cell:/home/whoami/Me%26Me/2.LinkedList.ipynb#W0sZmlsZQ%3D%3D?line=59'>60</a>\u001b[0m         \u001b[39mbreak\u001b[39;00m\n\u001b[1;32m     <a href='vscode-notebook-cell:/home/whoami/Me%26Me/2.LinkedList.ipynb#W0sZmlsZQ%3D%3D?line=60'>61</a>\u001b[0m     itr \u001b[39m=\u001b[39m itr\u001b[39m.\u001b[39mnext \n",
      "\u001b[0;31mNameError\u001b[0m: name 'iterable' is not defined"
     ]
    }
   ],
   "source": [
    "class Node:\n",
    "    def __init__(self, data=None,next=None):\n",
    "        self.data = data \n",
    "        self.next = next\n",
    "\n",
    "class LinkedList:\n",
    "    def __init__(self):\n",
    "        self.head = None\n",
    "    \n",
    "    def insert_at_beginning(self,data):\n",
    "        node = Node(data,self.head)\n",
    "        self.head = node        \n",
    "    def print(self):\n",
    "        if self.head is None:\n",
    "            print(\"Linked list is empty\")\n",
    "            return\n",
    "        itr = self.head\n",
    "        ll_str = ''\n",
    "        \n",
    "        while itr:\n",
    "            ll_str += str(itr.data) + '--->'\n",
    "            itr =itr.next\n",
    "        \n",
    "        print(ll_str)\n",
    "    def insert_at_end(self, data):\n",
    "        if self.head is None:\n",
    "            self.head= Node(data,None)\n",
    "            return\n",
    "        itr = self.head\n",
    "        while itr.next:\n",
    "            itr = itr.next\n",
    "        \n",
    "        itr.next = Node(data, None)     \n",
    "    \n",
    "    def insert_values(self,data_list):\n",
    "        self.head= None       \n",
    "        for data in data_list:\n",
    "            self.insert_at_end(data)\n",
    "    \n",
    "    def get_length(self):\n",
    "        count= 0\n",
    "        itr = self.head\n",
    "        while itr:\n",
    "            count+=1\n",
    "            itr=itr.next\n",
    "        \n",
    "        return count\n",
    "    \n",
    "    def remove_at(self,index):\n",
    "        if index<0 or index>=self.get_length():\n",
    "            raise Exception (\"Invalid index\")\n",
    "        if index==0:\n",
    "            self.head=self.head.next\n",
    "            return\n",
    "        count =0\n",
    "        itr= self.head\n",
    "        while itr:\n",
    "            if count == index-1:\n",
    "                itr.next = itr.next.next(iterable, default)\n",
    "                break\n",
    "            itr = itr.next \n",
    "            count+=1\n",
    "        \n",
    "if __name__ == '__main__' :\n",
    "    ll = LinkedList()\n",
    "    ll.insert_at_beginning(56)\n",
    "    ll.insert_at_end(79)\n",
    "    ll.print()\n",
    "    pp = LinkedList()\n",
    "    pp.insert_values([\"me\",\"she\",\"love\",\"coffee\",\"date\"])\n",
    "    pp.remove_at(1)\n",
    "    pp.print()\n",
    "    print(\"length:\",pp.get_length())\n",
    "    "
   ]
  },
  {
   "cell_type": "code",
   "execution_count": null,
   "metadata": {},
   "outputs": [],
   "source": []
  }
 ],
 "metadata": {
  "kernelspec": {
   "display_name": "Python 3",
   "language": "python",
   "name": "python3"
  },
  "language_info": {
   "codemirror_mode": {
    "name": "ipython",
    "version": 3
   },
   "file_extension": ".py",
   "mimetype": "text/x-python",
   "name": "python",
   "nbconvert_exporter": "python",
   "pygments_lexer": "ipython3",
   "version": "3.10.12"
  }
 },
 "nbformat": 4,
 "nbformat_minor": 2
}
